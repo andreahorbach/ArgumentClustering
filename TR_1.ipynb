{
  "nbformat": 4,
  "nbformat_minor": 0,
  "metadata": {
    "colab": {
      "provenance": [],
      "authorship_tag": "ABX9TyPaXnbGhfUIT4U2RM4dFftk",
      "include_colab_link": true
    },
    "kernelspec": {
      "name": "python3",
      "display_name": "Python 3"
    },
    "language_info": {
      "name": "python"
    }
  },
  "cells": [
    {
      "cell_type": "markdown",
      "metadata": {
        "id": "view-in-github",
        "colab_type": "text"
      },
      "source": [
        "<a href=\"https://colab.research.google.com/github/andreahorbach/ArgumentClustering/blob/main/TR_1.ipynb\" target=\"_parent\"><img src=\"https://colab.research.google.com/assets/colab-badge.svg\" alt=\"Open In Colab\"/></a>"
      ]
    },
    {
      "cell_type": "markdown",
      "source": [
        "**Beispiel 1:** Führen Sie die erste Zelle aus und beobachten Sie, was passiert."
      ],
      "metadata": {
        "id": "YfJsWPpAK-3f"
      }
    },
    {
      "cell_type": "code",
      "execution_count": 1,
      "metadata": {
        "id": "GHlLrabSJNPJ",
        "outputId": "78d200ad-aff2-444f-ed0d-692382b2dd08",
        "colab": {
          "base_uri": "https://localhost:8080/"
        }
      },
      "outputs": [
        {
          "output_type": "stream",
          "name": "stdout",
          "text": [
            "0\n",
            "1\n",
            "2\n",
            "3\n",
            "4\n",
            "5\n",
            "6\n",
            "7\n",
            "8\n",
            "9\n"
          ]
        }
      ],
      "source": [
        "for i in range(10):\n",
        "  print(i)"
      ]
    },
    {
      "cell_type": "markdown",
      "source": [
        "**Beispiel 2:** Eine simple NLP Pipeline-fürs Englische. Änders Sie den Text und beobachten Sie, was passiert."
      ],
      "metadata": {
        "id": "E81kpFpGMbC-"
      }
    },
    {
      "cell_type": "code",
      "source": [
        "import nltk\n",
        "nltk.download('punkt')\n",
        "nltk.download('averaged_perceptron_tagger')\n",
        "nltk.download('maxent_ne_chunker')\n",
        "nltk.download('words')\n",
        "text = (\"Mr. and Mrs. Dursley, of number four, Privet Drive, were proud to saythat they were perfectly normal, thank you very much. \"\n",
        "+\"They were the last people you'd expect to be involved in anything strange or mysterious, because they just didn't hold with such nonsense.\")\n",
        "sentences = nltk.sent_tokenize(text)\n",
        "for sentence in sentences:\n",
        "    words = nltk.word_tokenize(sentence)\n",
        "    tagged_words = nltk.pos_tag(words)\n",
        "    ne_tagged_words = nltk.ne_chunk(tagged_words)\n",
        "    print(ne_tagged_words)"
      ],
      "metadata": {
        "id": "GkwvsdtFJdla",
        "outputId": "f1a5d6bc-0735-47a3-d37c-fd4fd4b2cbeb",
        "colab": {
          "base_uri": "https://localhost:8080/"
        }
      },
      "execution_count": null,
      "outputs": [
        {
          "output_type": "stream",
          "name": "stderr",
          "text": [
            "[nltk_data] Downloading package punkt to /root/nltk_data...\n",
            "[nltk_data]   Unzipping tokenizers/punkt.zip.\n",
            "[nltk_data] Downloading package averaged_perceptron_tagger to\n",
            "[nltk_data]     /root/nltk_data...\n",
            "[nltk_data]   Unzipping taggers/averaged_perceptron_tagger.zip.\n",
            "[nltk_data] Downloading package maxent_ne_chunker to\n",
            "[nltk_data]     /root/nltk_data...\n",
            "[nltk_data]   Unzipping chunkers/maxent_ne_chunker.zip.\n",
            "[nltk_data] Downloading package words to /root/nltk_data...\n",
            "[nltk_data]   Unzipping corpora/words.zip.\n"
          ]
        },
        {
          "output_type": "stream",
          "name": "stdout",
          "text": [
            "(S\n",
            "  (PERSON Mr./NNP)\n",
            "  and/CC\n",
            "  Mrs./NNP\n",
            "  Dursley/NNP\n",
            "  ,/,\n",
            "  of/IN\n",
            "  number/NN\n",
            "  four/CD\n",
            "  ,/,\n",
            "  (PERSON Privet/NNP Drive/NNP)\n",
            "  ,/,\n",
            "  were/VBD\n",
            "  proud/JJ\n",
            "  to/TO\n",
            "  saythat/WP\n",
            "  they/PRP\n",
            "  were/VBD\n",
            "  perfectly/RB\n",
            "  normal/JJ\n",
            "  ,/,\n",
            "  thank/NN\n",
            "  you/PRP\n",
            "  very/RB\n",
            "  much/RB\n",
            "  ./.)\n",
            "(S\n",
            "  They/PRP\n",
            "  were/VBD\n",
            "  the/DT\n",
            "  last/JJ\n",
            "  people/NNS\n",
            "  you/PRP\n",
            "  'd/MD\n",
            "  expect/VB\n",
            "  to/TO\n",
            "  be/VB\n",
            "  involved/VBN\n",
            "  in/IN\n",
            "  anything/NN\n",
            "  strange/JJ\n",
            "  or/CC\n",
            "  mysterious/JJ\n",
            "  ,/,\n",
            "  because/IN\n",
            "  they/PRP\n",
            "  just/RB\n",
            "  did/VBD\n",
            "  n't/RB\n",
            "  hold/VB\n",
            "  with/IN\n",
            "  such/JJ\n",
            "  nonsense/NN\n",
            "  ./.)\n"
          ]
        }
      ]
    }
  ]
}